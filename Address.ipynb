 {
 "cells": [
  {
   "cell_type": "code",
   "execution_count": 1,
   "metadata": {
    "collapsed": true
   },
   "outputs": [],
   "source": [
    "# This program would read an excel file with the customers address and identification number then extracting the \n",
    "# city and zipcode from the line of address. Both zipcode and city is taken from the address line but the zipcode\n",
    "# later on would be cross reference with the zipcode.xlsx file providing the zipcode with a matching province, \n",
    "# city/kabupaten, city/kabupaten name, district and village\n",
    "#Program runtime ~ 255.78120374679565 seconds\n",
    "\n",
    "import numpy as np\n",
    "import pandas as pd\n",
    "import re"
   ]
  },
  {
   "cell_type": "code",
   "execution_count": 2,
   "metadata": {},
   "outputs": [],
   "source": [
    "# This would read the excel file that wants to be run through the program and is stored in data. Allzip would be\n",
    "# the file to cross reference the zipcode in the address column with the zipcode of Indonesia. Then \"ClientAddr\"\n",
    "# where the addresses are stored would be turn to all uppercase to prevent capitalization problem. Then in allzip,\n",
    "# postalcode and index would be drop\n",
    "\n",
    "data = pd.read_excel('Client Address Kevin.xlsx')\n",
    "allzip = pd.read_excel('zipcode.xlsx')\n",
    "data[\"ClientAddr\"] = data[\"ClientAddr\"].str.upper()\n",
    "allzip = allzip.drop_duplicates(subset = 'Postal Code', keep = 'first').reset_index()\n",
    "allzip = allzip.drop(\"index\", axis = 1)"
   ]
  },
  {
   "cell_type": "code",
   "execution_count": 3,
   "metadata": {
    "collapsed": true
   },
   "outputs": [],
   "source": [
    "# In data, the blank spaces in ClientAddr are filled with 0, then replace all symbols like . and / with space so \n",
    "# splitting it word by would would be easy. Remane postal code with Zip for future merge. For loop would go through\n",
    "# the divided address and check if a zipcode is present, and if it is, then it would be stored in lst. \n",
    "\n",
    "data['ClientAddr'] = data['ClientAddr'].fillna(\"0\")\n",
    "data['clean1'] = data['ClientAddr'].str.replace(\".\",\" \").replace('/',' ').str.split(\" \")\n",
    "data['clean2'] = data['ClientNumber']\n",
    "allzip = allzip.rename(columns = {'Postal Code':'Zip'})\n",
    "lst = []\n",
    "index = 0\n",
    "\n",
    "for addr in data['clean1']:\n",
    "    for char in addr:\n",
    "        if len(char) == 5 and char.isdigit() == True:\n",
    "            lst.append([char,str(index)])\n",
    "    index +=1"
   ]
  },
  {
   "cell_type": "code",
   "execution_count": 4,
   "metadata": {
    "collapsed": true
   },
   "outputs": [],
   "source": [
    "# Reset index would bring up the column index, and changing the column 'index' turning it to string. lst is stored\n",
    "# in a dataframe and header name are changed for future merge. Then duplicates for both index and zip are drop and \n",
    "# data and df are merge while filling the cases of address with no zipcode with 00000\n",
    "\n",
    "data = data.reset_index()\n",
    "data['index'] = data['index'].astype(str)\n",
    "df = pd.DataFrame(lst)\n",
    "df.columns = ['Zip', 'index']\n",
    "df = df.drop_duplicates(subset = ['Zip', 'index'], keep = 'last')\n",
    "df = df.drop_duplicates(subset = 'index', keep = 'last')\n",
    "df_temp = pd.merge(data, df, on = 'index', how = 'left')\n",
    "df_temp['Zip'] = df_temp['Zip'].fillna(\"00000\")"
   ]
  },
  {
   "cell_type": "code",
   "execution_count": 5,
   "metadata": {
    "collapsed": true
   },
   "outputs": [],
   "source": [
    "# df_temp now would be compared towards the list 'citylist' to check if the city in city list is located in df_temp\n",
    "# ClientAddr, if it is then it would add the city name towards the database. Database would drop index, clean1 and\n",
    "# clean2\n",
    "\n",
    "df_temp['kota'] = \"\"\n",
    "citylist = [\"MALANG\", \"SAMARINDA\", \"TASIKMALAYA\", \"PONTIANAK\", \"BANJAMASIN\", \"SERANG\",\n",
    "       \"JAMBI\", \"BALIKPAPAN\", \"SURAKARTA\", \"CIMAHI\", \"MANADO\", \"KUPANG\", \"JAYAPURA\",\n",
    "       \"MATARAM\", \"YOGYAKARTA\", \"CILEGON\", \"AMBON\", \"BENGKULU\", \"PALU\", \"KENDARI\", \"SUKABUMI\",\n",
    "       \"CIREBON\", \"PEKALONGAN\", \"KEDIRI\", \"PEMATANGSIANTAR\", \"TEGAL\", \"SORONG\", \"BINJAI\", \"DUMAI\",\n",
    "       \"PALANGKA RAYA\", \"SINGKAWANG\", \"PROBOLINGGO\", \"BITUNG\", \"BANJARBARU\", \"TERNATE\", \"LUBUKLINGGAU\",\n",
    "       \"PASURUAN\", \"TANJUNG PINANG\", \"PANGKAL PINANG\", \"MADIUN\", \"TARAKAN\", \"BATU\", \"GORONTALO\",\n",
    "       \"BANJAR\", \"LHOKSEUMAWE\", \"PRABUMULIH\", \"PALOPO\", \"LANGSA\", \"SALATIGA\", \"PAREPARE\", \n",
    "       \"TEBING TINGGI\", \"TANJUNGBALAI\", \"METRO\", \"BOTANG\", \"BAUBAU\", \"BLITAR\", \"GUNUNGSITOLI\",\n",
    "       \"BIMA\", \"PAGAR ALAM\", \"MOJOKERTO\", \"PAYAKUMBUH\", \"MAGELANG\", \"KOTAMOBAGU\", \"BUKITTINGGI\",\n",
    "       \"TIDORE\", \"SUNGAI PENUH\", \"TOMOHON\", \"SIBOLGA\", \"PARIAMAN\", \"TUAL\", \"SUBULUSSALAM\", \"SOLOK\",\n",
    "       \"SAWAHLUNTO\", \"PADANG PANJANG\", \"SABANG\", \"MALUKU\", \"JEMBER\", \"PAPUA\", \"KLATEN\",\n",
    "       \"PARINDU SANGGAU\", \"BINTAN\", \"RIAU\", \"BANTEN\", \"DEPOK\", \"CIAMIS\", \"KARIMUN\", \"JAKARTA\", \"SURABAYA\", \n",
    "       \"BANDUNG\", \"MEDAN\", \"SEMARANG\", \"PALEM BANG\", \"ACEH\"\n",
    "       \"MAKASSAR\", \"BATAM\", \"PEKANBARU\", \"BANDAR LAMPUNG\", \"LAMPUNG\", \"BALI\", \"DENPASAR\",\n",
    "       \"BEKASI\", \"DEPOK\", \"TANGERANG\", \"BATAM\", \"BOGOR\", \"PADANG\", \"PEKANBARU\",]\n",
    "\n",
    "for i in range(len(citylist)):\n",
    "    df_temp['kota'] = np.where(df_temp['ClientAddr'].str.contains(citylist[i]),citylist[i],df_temp['kota'])\n",
    "df_temp['kota'] = np.where(df_temp['ClientAddr'].str.contains(\"SUROBOYO\"),\"SURABAYA\",df_temp['kota'])\n",
    "df_temp['kota'] = np.where(df_temp['ClientAddr'].str.contains(\"DENPASAR\"),\"BALI\",df_temp['kota'])\n",
    "df_temp = df_temp.drop(['index','clean1','clean2'], axis = 1)"
   ]
  },
  {
   "cell_type": "code",
   "execution_count": 7,
   "metadata": {
    "collapsed": true
   },
   "outputs": [],
   "source": [
    "# Turning 'Zip' for both df_temp and allzip to string type for easier merge. Then it would all be merge to df_temp\n",
    "# by the zip. 'No' column in df_temp is now dropped.\n",
    "\n",
    "allzip['Zip'] = allzip['Zip'].astype(str)\n",
    "df_temp['Zip'] = df_temp['Zip'].astype(str)\n",
    "df_temp = pd.merge(df_temp, allzip, on = 'Zip', how = 'left')\n",
    "df_temp = df_temp.drop(['No.'], axis = 1)"
   ]
  },
  {
   "cell_type": "code",
   "execution_count": 9,
   "metadata": {
    "scrolled": true
   },
   "outputs": [
    {
     "name": "stdout",
     "output_type": "stream",
     "text": [
      "255.78120374679565\n"
     ]
    }
   ],
   "source": [
    "# This would write the dataframe towards an excel file titled \"Output\" \n",
    "\n",
    "with pd.ExcelWriter ('Output.xlsx') as writer:\n",
    "    df_temp.to_excel (writer, sheet_name = \"Address\", index = False)\n",
    "writer.save()"
   ]
  }
 ],
 "metadata": {
  "anaconda-cloud": {},
  "kernelspec": {
   "display_name": "Python 3",
   "language": "python",
   "name": "python3"
  },
  "language_info": {
   "codemirror_mode": {
    "name": "ipython",
    "version": 3
   },
   "file_extension": ".py",
   "mimetype": "text/x-python",
   "name": "python",
   "nbconvert_exporter": "python",
   "pygments_lexer": "ipython3",
   "version": "3.7.4"
  }
 },
 "nbformat": 4,
 "nbformat_minor": 2
}
